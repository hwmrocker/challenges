{
 "cells": [
  {
   "cell_type": "code",
   "execution_count": 409,
   "metadata": {},
   "outputs": [],
   "source": [
    "import numpy as np \n",
    "import copy"
   ]
  },
  {
   "cell_type": "code",
   "execution_count": 410,
   "metadata": {},
   "outputs": [],
   "source": [
    "class WordWithCoords():\n",
    "    def __init__(self, word, direction, index_x, index_y):\n",
    "        self.word = word\n",
    "        self.direction = direction\n",
    "        self.index_x = index_x\n",
    "        self.index_y = index_y      \n",
    "\n",
    "    def concatenate(self, other):\n",
    "        res = WordWithCoords(word = self.word + other.word, \n",
    "                             direction  = self.direction,\n",
    "                             index_x = self.index_x,\n",
    "                             index_y = self.index_y)\n",
    "        return copy.deepcopy(res)\n",
    "    \n",
    "    def __repr__(self):\n",
    "        return \"{},{},{},{},{}\".format(self.word, self.direction, self.index_y, self.index_x, len(self.word))\n"
   ]
  },
  {
   "cell_type": "code",
   "execution_count": 411,
   "metadata": {},
   "outputs": [],
   "source": [
    "def get_all_substr(input_string):\n",
    "    # stackoverflow ftw  https://stackoverflow.com/questions/22469997/how-to-get-all-the-contiguous-substrings-of-a-string-in-python\n",
    "    max_len = len(input_string)\n",
    "    return [(input_string[i:j + 1], j)for i in range(max_len) for j in range(i, max_len)]"
   ]
  },
  {
   "cell_type": "code",
   "execution_count": 412,
   "metadata": {},
   "outputs": [],
   "source": [
    "def scan(string, direction, x, y, dictionary):\n",
    "    #print(get_all_substr(string))\n",
    "    for s, j in get_all_substr(string):\n",
    "        if s in dictionary:\n",
    "            #if not x:\n",
    "            #    yield WordWithCoords(s, direction=direction, index_x=j, index_y=y) #todo check\n",
    "            #else:\n",
    "            print(\"j:\",j)\n",
    "            yield WordWithCoords(s, direction=direction, index_x=j, index_y=y) #todo check\n",
    "\n"
   ]
  },
  {
   "cell_type": "code",
   "execution_count": 413,
   "metadata": {},
   "outputs": [],
   "source": [
    "def scan2(wrd_list, dictionary, direction = None):\n",
    "    for j in range(0, len(wrd_list)):\n",
    "        #print(seed )\n",
    "        #print(len(wrd_list))\n",
    "        for i in range(j+1, len(wrd_list)+1):\n",
    "            seed = wrd_list[j] # for j ...\n",
    "            for k in range(j+1, i):\n",
    "                seed  = seed.concatenate(wrd_list[k])\n",
    "            if seed.word in dictionary:\n",
    "                seed.direction = direction\n",
    "                yield seed\n",
    "            "
   ]
  },
  {
   "cell_type": "code",
   "execution_count": 414,
   "metadata": {},
   "outputs": [],
   "source": [
    "input_grid= None\n",
    "raw_grid = None\n",
    "biggusdictus = {}\n",
    "\n",
    "infile = \"./chargrid.txt\"\n",
    "wordlist = \"./eff_large.wordlist\"\n",
    "    # read and sanitize\n",
    "with open(infile, 'r') as inf:\n",
    "    input_grid = inf.read().rstrip().split(\"\\n\")\n",
    "    input_grid = [s.upper() for s in input_grid]\n",
    "    raw_grid = [s.upper().rstrip() for s in inf.read()]\n",
    "\n",
    "with open(wordlist, 'r') as wl:\n",
    "    reference = wl.read().strip().split(\"\\n\")\n",
    "    reference = [s.upper().replace(\"\\r\", \"\").strip() for s in reference]\n",
    "    for r in reference:\n",
    "        biggusdictus[r] = True\n",
    "\n",
    "max_x = len(input_grid[0])\n",
    "max_y = len(input_grid)\n",
    "    "
   ]
  },
  {
   "cell_type": "code",
   "execution_count": 415,
   "metadata": {},
   "outputs": [],
   "source": [
    "twod_grid_coords = np.arange(max_x * max_y, dtype=object).reshape(max_y, max_x)"
   ]
  },
  {
   "cell_type": "code",
   "execution_count": 416,
   "metadata": {},
   "outputs": [],
   "source": [
    "twod_grid = np.array([list(x) for x in input_grid])"
   ]
  },
  {
   "cell_type": "code",
   "execution_count": 417,
   "metadata": {},
   "outputs": [],
   "source": [
    "#twod_grid"
   ]
  },
  {
   "cell_type": "code",
   "execution_count": 418,
   "metadata": {},
   "outputs": [],
   "source": [
    "#twod_grid_coords"
   ]
  },
  {
   "cell_type": "code",
   "execution_count": 419,
   "metadata": {},
   "outputs": [],
   "source": [
    "for y in range(0,max_y):\n",
    "    for x in range(0, max_x):\n",
    "        #print(x,y)\n",
    "        twod_grid_coords[y][x] = WordWithCoords(index_x=x, index_y=y, word=twod_grid[y][x], direction=\"\")"
   ]
  },
  {
   "cell_type": "code",
   "execution_count": 420,
   "metadata": {},
   "outputs": [],
   "source": [
    "#twod_grid_coords"
   ]
  },
  {
   "cell_type": "code",
   "execution_count": 421,
   "metadata": {},
   "outputs": [],
   "source": [
    "#twod_grid_coords_cp = copy.deepcopy(twod_grid_coords)\n",
    "\n",
    "#bla = twod_grid_coords_cp[0]\n",
    "#print(bla,\"bla\")\n",
    "\n",
    "#blabla = bla[0].concatenate(bla[1])\n",
    "#print(blabla)\n",
    "#test = scan2(bla, dictionary=biggusdictus)\n",
    "#for t in test:\n",
    "#    print(t)\n",
    "#print(list(test))\n",
    "   # for x in scan2(t):\n",
    "    #    print(x)\n",
    "    "
   ]
  },
  {
   "cell_type": "code",
   "execution_count": 422,
   "metadata": {},
   "outputs": [],
   "source": [
    "diagonals = np.diag(twod_grid)\n",
    "diagonals_coords = np.diag(twod_grid_coords)"
   ]
  },
  {
   "cell_type": "code",
   "execution_count": 423,
   "metadata": {},
   "outputs": [],
   "source": [
    "diag_bottom_left_to_upper_right = [twod_grid[::-1,:].diagonal(i) for i in range(-twod_grid.shape[0]+1,twod_grid.shape[1])]\n",
    "diag_bottom_left_to_upper_right_coords = [twod_grid_coords[::-1,:].diagonal(i) for i in range(-twod_grid.shape[0]+1,twod_grid.shape[1])]"
   ]
  },
  {
   "cell_type": "code",
   "execution_count": 424,
   "metadata": {},
   "outputs": [],
   "source": [
    "#diag_bottom_left_to_upper_right"
   ]
  },
  {
   "cell_type": "code",
   "execution_count": 425,
   "metadata": {},
   "outputs": [],
   "source": [
    "diag_top_left_to_bottom_right = [twod_grid.diagonal(i) for i in range(twod_grid.shape[1]-1,-twod_grid.shape[0],-1)]\n",
    "diag_top_left_to_bottom_right_coords = [twod_grid_coords.diagonal(i) for i in range(twod_grid.shape[1]-1,-twod_grid.shape[0],-1)]"
   ]
  },
  {
   "cell_type": "code",
   "execution_count": 426,
   "metadata": {},
   "outputs": [],
   "source": [
    "#diag_top_left_to_bottom_right"
   ]
  },
  {
   "cell_type": "code",
   "execution_count": 427,
   "metadata": {},
   "outputs": [],
   "source": [
    "down = twod_grid.T\n",
    "down_coords = twod_grid_coords.T"
   ]
  },
  {
   "cell_type": "code",
   "execution_count": 428,
   "metadata": {},
   "outputs": [],
   "source": [
    "#down"
   ]
  },
  {
   "cell_type": "code",
   "execution_count": 429,
   "metadata": {},
   "outputs": [],
   "source": [
    "found = []\n",
    "#found2 = []"
   ]
  },
  {
   "cell_type": "code",
   "execution_count": 430,
   "metadata": {},
   "outputs": [],
   "source": [
    "## E, left to right\n",
    "#for n,i in enumerate(input_grid):\n",
    "#    #print(n,i)\n",
    "#    for wrd in scan(i, direction=\"E\", x=None, y=n, dictionary=biggusdictus):\n",
    "#        print(wrd)\n",
    "#        found.append(wrd)"
   ]
  },
  {
   "cell_type": "code",
   "execution_count": 431,
   "metadata": {},
   "outputs": [],
   "source": [
    "# E, left to right\n",
    "for n,i in enumerate(copy.deepcopy(twod_grid_coords)):\n",
    "    for wrd in scan2(i, dictionary=biggusdictus, direction=\"E\"):\n",
    "        found.append(wrd)"
   ]
  },
  {
   "cell_type": "code",
   "execution_count": 432,
   "metadata": {},
   "outputs": [
    {
     "data": {
      "text/plain": [
       "[YIN,E,5,10,3,\n",
       " GEM,E,5,16,3,\n",
       " AIM,E,7,7,3,\n",
       " WOW,E,10,8,3,\n",
       " ION,E,12,8,3,\n",
       " GEM,E,15,22,3,\n",
       " CONFIDENT,E,19,22,9]"
      ]
     },
     "execution_count": 432,
     "metadata": {},
     "output_type": "execute_result"
    }
   ],
   "source": [
    "found"
   ]
  },
  {
   "cell_type": "code",
   "execution_count": 433,
   "metadata": {},
   "outputs": [
    {
     "name": "stdout",
     "output_type": "stream",
     "text": [
      "STRATEGY,S,14,10,8\n",
      "GAG,S,3,16,3\n",
      "ELM,S,13,24,3\n",
      "GONG,S,7,27,4\n",
      "VALUE,S,15,28,5\n"
     ]
    }
   ],
   "source": [
    "# S\n",
    "for n,i in enumerate(copy.deepcopy(down_coords)):\n",
    "    #print(\"\".join(i))\n",
    "    for wrd in scan2(i, direction=\"S\", dictionary=biggusdictus):\n",
    "        print(wrd)\n",
    "        found.append(wrd)"
   ]
  },
  {
   "cell_type": "code",
   "execution_count": 434,
   "metadata": {},
   "outputs": [
    {
     "data": {
      "text/plain": [
       "[YIN,E,5,10,3,\n",
       " GEM,E,5,16,3,\n",
       " AIM,E,7,7,3,\n",
       " WOW,E,10,8,3,\n",
       " ION,E,12,8,3,\n",
       " GEM,E,15,22,3,\n",
       " CONFIDENT,E,19,22,9,\n",
       " STRATEGY,S,14,10,8,\n",
       " GAG,S,3,16,3,\n",
       " ELM,S,13,24,3,\n",
       " GONG,S,7,27,4,\n",
       " VALUE,S,15,28,5]"
      ]
     },
     "execution_count": 434,
     "metadata": {},
     "output_type": "execute_result"
    }
   ],
   "source": [
    "found"
   ]
  },
  {
   "cell_type": "code",
   "execution_count": 435,
   "metadata": {},
   "outputs": [
    {
     "name": "stdout",
     "output_type": "stream",
     "text": [
      "GURU,SE,5,23,4\n",
      "SIP,SE,2,16,3\n",
      "WAD,SE,0,11,3\n",
      "EEL,SE,7,17,3\n",
      "TUX,SE,0,3,3\n",
      "GAP,SE,18,11,3\n",
      "BATS,SE,19,0,4\n"
     ]
    }
   ],
   "source": [
    "#SE\n",
    "for n, i in enumerate(copy.deepcopy(diag_top_left_to_bottom_right_coords)):\n",
    "    for wrd in scan2(i, direction=\"SE\", dictionary=biggusdictus):\n",
    "        print(wrd)\n",
    "        found.append(wrd)"
   ]
  },
  {
   "cell_type": "code",
   "execution_count": 436,
   "metadata": {},
   "outputs": [
    {
     "name": "stdout",
     "output_type": "stream",
     "text": [
      "IVY,NE,7,8,3\n",
      "WAD,NE,10,10,3\n",
      "DRY,NE,19,6,3\n",
      "ION,NE,10,19,3\n"
     ]
    }
   ],
   "source": [
    "#NE\n",
    "for n,i in enumerate(copy.deepcopy(diag_bottom_left_to_upper_right_coords)):\n",
    "        for wrd in scan2(i, direction=\"NE\", dictionary=biggusdictus):\n",
    "            print(wrd)\n",
    "            found.append(wrd)"
   ]
  },
  {
   "cell_type": "code",
   "execution_count": 438,
   "metadata": {},
   "outputs": [
    {
     "data": {
      "text/plain": [
       "23"
      ]
     },
     "execution_count": 438,
     "metadata": {},
     "output_type": "execute_result"
    }
   ],
   "source": [
    "len(found)"
   ]
  },
  {
   "cell_type": "code",
   "execution_count": null,
   "metadata": {},
   "outputs": [],
   "source": []
  },
  {
   "cell_type": "code",
   "execution_count": null,
   "metadata": {},
   "outputs": [],
   "source": []
  },
  {
   "cell_type": "code",
   "execution_count": null,
   "metadata": {},
   "outputs": [],
   "source": []
  },
  {
   "cell_type": "code",
   "execution_count": null,
   "metadata": {},
   "outputs": [],
   "source": []
  },
  {
   "cell_type": "code",
   "execution_count": null,
   "metadata": {},
   "outputs": [],
   "source": []
  },
  {
   "cell_type": "code",
   "execution_count": null,
   "metadata": {},
   "outputs": [],
   "source": []
  },
  {
   "cell_type": "code",
   "execution_count": null,
   "metadata": {},
   "outputs": [],
   "source": []
  },
  {
   "cell_type": "code",
   "execution_count": null,
   "metadata": {},
   "outputs": [],
   "source": []
  }
 ],
 "metadata": {
  "kernelspec": {
   "display_name": "Python 3",
   "language": "python",
   "name": "python3"
  },
  "language_info": {
   "codemirror_mode": {
    "name": "ipython",
    "version": 3
   },
   "file_extension": ".py",
   "mimetype": "text/x-python",
   "name": "python",
   "nbconvert_exporter": "python",
   "pygments_lexer": "ipython3",
   "version": "3.5.2"
  }
 },
 "nbformat": 4,
 "nbformat_minor": 1
}
