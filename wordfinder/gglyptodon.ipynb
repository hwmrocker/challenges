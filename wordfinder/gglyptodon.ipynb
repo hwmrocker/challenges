{
 "cells": [
  {
   "cell_type": "code",
   "execution_count": 443,
   "metadata": {},
   "outputs": [],
   "source": [
    "import math\n",
    "import numpy as np "
   ]
  },
  {
   "cell_type": "code",
   "execution_count": 444,
   "metadata": {},
   "outputs": [],
   "source": [
    "class WordWithCoords():\n",
    "    def __init__(self, word, direction, index_x, index_y):\n",
    "        self.word = word\n",
    "        self.direction = direction\n",
    "        self.index_x = index_x\n",
    "        self.index_y = index_y\n",
    "\n",
    "    def __repr__(self):\n",
    "        return \"{},{},{},{},{}\".format(self.word, self.direction, self.index_y, self.index_x, len(self.word))\n"
   ]
  },
  {
   "cell_type": "code",
   "execution_count": 445,
   "metadata": {},
   "outputs": [],
   "source": [
    "#def grid_to_2d(grid):\n",
    "#    res = np.array(grid)\n",
    "#    print(\"numpy \", res)\n",
    "#    return np.array(list(grid))\n"
   ]
  },
  {
   "cell_type": "code",
   "execution_count": 446,
   "metadata": {},
   "outputs": [],
   "source": [
    "def get_all_substr(input_string):\n",
    "    # stackoverflow ftw  https://stackoverflow.com/questions/22469997/how-to-get-all-the-contiguous-substrings-of-a-string-in-python\n",
    "    max_len = len(input_string)\n",
    "    return [(input_string[i:j + 1], j)for i in range(max_len) for j in range(i, max_len)]"
   ]
  },
  {
   "cell_type": "code",
   "execution_count": 448,
   "metadata": {},
   "outputs": [],
   "source": [
    "def scan(string, direction, x, y, dictionary):\n",
    "    #print(get_all_substr(string))\n",
    "    for s, j in get_all_substr(string):\n",
    "        if s in dictionary:\n",
    "            #if not x:\n",
    "            #    yield WordWithCoords(s, direction=direction, index_x=j, index_y=y) #todo check\n",
    "            #else:\n",
    "            print(\"j:\",j)\n",
    "            yield WordWithCoords(s, direction=direction, index_x=j, index_y=y) #todo check\n"
   ]
  },
  {
   "cell_type": "code",
   "execution_count": 449,
   "metadata": {},
   "outputs": [],
   "source": [
    "#def grid_to_2d(grid):\n",
    "#    res = np.array(grid)\n",
    "#    print(\"numpy \", res)\n",
    "#    return np.array(list(grid))"
   ]
  },
  {
   "cell_type": "code",
   "execution_count": 450,
   "metadata": {},
   "outputs": [],
   "source": [
    "input_grid= None\n",
    "raw_grid = None\n",
    "biggusdictus = {}\n",
    "\n",
    "infile = \"./chargrid.txt\"\n",
    "worldlist = \"eff_large.wordlist\"\n",
    "    # read and sanitize\n",
    "with open(infile, 'r') as inf:\n",
    "    input_grid = inf.read().rstrip().split(\"\\n\")\n",
    "    input_grid = [s.upper() for s in input_grid]\n",
    "    raw_grid = [s.upper().rstrip() for s in inf.read()]\n",
    "\n",
    "with open(wordlist, 'r') as wl:\n",
    "    reference = wl.read().strip().split(\"\\n\")\n",
    "    reference = [s.upper().replace(\"\\r\", \"\").strip() for s in reference]\n",
    "    for r in reference:\n",
    "        biggusdictus[r] = True\n",
    "\n",
    "max_x = len(input_grid[0])\n",
    "max_y = len(input_grid)\n",
    "    "
   ]
  },
  {
   "cell_type": "code",
   "execution_count": 451,
   "metadata": {},
   "outputs": [],
   "source": [
    "twod_grid_coords = np.arange(max_x * max_y, dtype=object).reshape(max_y, max_x)"
   ]
  },
  {
   "cell_type": "code",
   "execution_count": 452,
   "metadata": {},
   "outputs": [],
   "source": [
    "#twod_grid = grid_to_2d([list(x) for x in input_grid])"
   ]
  },
  {
   "cell_type": "code",
   "execution_count": 453,
   "metadata": {},
   "outputs": [],
   "source": [
    "twod_grid = np.array([list(x) for x in input_grid])"
   ]
  },
  {
   "cell_type": "code",
   "execution_count": 475,
   "metadata": {},
   "outputs": [],
   "source": [
    "#twod_grid"
   ]
  },
  {
   "cell_type": "code",
   "execution_count": 476,
   "metadata": {},
   "outputs": [],
   "source": [
    "#twod_grid_coords"
   ]
  },
  {
   "cell_type": "code",
   "execution_count": 456,
   "metadata": {},
   "outputs": [],
   "source": [
    "for y in range(0,max_y):\n",
    "    for x in range(0, max_x):\n",
    "        #print(x,y)\n",
    "        twod_grid_coords[y][x] = (x,y,twod_grid[y][x])"
   ]
  },
  {
   "cell_type": "code",
   "execution_count": 478,
   "metadata": {},
   "outputs": [],
   "source": [
    "#twod_grid_coords"
   ]
  },
  {
   "cell_type": "code",
   "execution_count": 480,
   "metadata": {},
   "outputs": [],
   "source": [
    "#twod_grid"
   ]
  },
  {
   "cell_type": "code",
   "execution_count": 481,
   "metadata": {},
   "outputs": [],
   "source": [
    "#np.diag(twod_grid)"
   ]
  },
  {
   "cell_type": "code",
   "execution_count": 460,
   "metadata": {},
   "outputs": [],
   "source": [
    "diagonals = np.diag(twod_grid)\n",
    "diagonals_coords = np.diag(twod_grid_coords)"
   ]
  },
  {
   "cell_type": "code",
   "execution_count": 461,
   "metadata": {},
   "outputs": [],
   "source": [
    "#for x in diagonals:\n",
    "#    print(x,\"//\")\n",
    "#for x in diagonals_coords:\n",
    "#    print(x,\"//\")\n"
   ]
  },
  {
   "cell_type": "code",
   "execution_count": 462,
   "metadata": {},
   "outputs": [],
   "source": [
    "diag_bottom_left_to_upper_right = [twod_grid[::-1,:].diagonal(i) for i in range(-twod_grid.shape[0]+1,twod_grid.shape[1])]\n",
    "diag_bottom_left_to_upper_right_coords = [twod_grid_coords[::-1,:].diagonal(i) for i in range(-twod_grid.shape[0]+1,twod_grid.shape[1])]"
   ]
  },
  {
   "cell_type": "code",
   "execution_count": 463,
   "metadata": {},
   "outputs": [],
   "source": [
    "#diag_bottom_left_to_upper_right"
   ]
  },
  {
   "cell_type": "code",
   "execution_count": 464,
   "metadata": {},
   "outputs": [],
   "source": [
    "diag_top_left_to_bottom_right = [twod_grid.diagonal(i) for i in range(twod_grid.shape[1]-1,-twod_grid.shape[0],-1)]\n",
    "diag_top_left_to_bottom_right_coords = [twod_grid_coords.diagonal(i) for i in range(twod_grid.shape[1]-1,-twod_grid.shape[0],-1)]"
   ]
  },
  {
   "cell_type": "code",
   "execution_count": 465,
   "metadata": {},
   "outputs": [],
   "source": [
    "#diag_top_left_to_bottom_right"
   ]
  },
  {
   "cell_type": "code",
   "execution_count": 466,
   "metadata": {},
   "outputs": [],
   "source": [
    "down = twod_grid.T\n",
    "down_coords = twod_grid_coords.T"
   ]
  },
  {
   "cell_type": "code",
   "execution_count": 467,
   "metadata": {},
   "outputs": [],
   "source": [
    "#down"
   ]
  },
  {
   "cell_type": "code",
   "execution_count": 492,
   "metadata": {},
   "outputs": [],
   "source": [
    "found = []"
   ]
  },
  {
   "cell_type": "code",
   "execution_count": 493,
   "metadata": {},
   "outputs": [
    {
     "name": "stdout",
     "output_type": "stream",
     "text": [
      "j: 12\n",
      "YIN,E,5,12,3\n",
      "j: 18\n",
      "GEM,E,5,18,3\n",
      "j: 9\n",
      "AIM,E,7,9,3\n",
      "j: 10\n",
      "WOW,E,10,10,3\n",
      "j: 10\n",
      "ION,E,12,10,3\n",
      "j: 24\n",
      "GEM,E,15,24,3\n",
      "j: 30\n",
      "CONFIDENT,E,19,30,9\n"
     ]
    }
   ],
   "source": [
    "# E, left to right\n",
    "for n,i in enumerate(input_grid):\n",
    "    #print(n,i)\n",
    "    for wrd in scan(i, direction=\"E\", x=None, y=n, dictionary=biggusdictus):\n",
    "        print(wrd)\n",
    "        found.append(wrd)"
   ]
  },
  {
   "cell_type": "code",
   "execution_count": 494,
   "metadata": {},
   "outputs": [],
   "source": [
    "#found"
   ]
  },
  {
   "cell_type": "code",
   "execution_count": 495,
   "metadata": {},
   "outputs": [
    {
     "name": "stdout",
     "output_type": "stream",
     "text": [
      "j: 21\n",
      "STRATEGY,S,None,21,8\n",
      "j: 5\n",
      "GAG,S,None,5,3\n",
      "j: 15\n",
      "ELM,S,None,15,3\n",
      "j: 10\n",
      "GONG,S,None,10,4\n",
      "j: 19\n",
      "VALUE,S,None,19,5\n"
     ]
    }
   ],
   "source": [
    "#for i in down:\n",
    "#    print(i)\n",
    "#    print(\"\".join(i))\n",
    "#print(\"----\\n\")\n",
    "\n",
    "# S\n",
    "for i in down:\n",
    "    #print(\"\".join(i))\n",
    "    for wrd in scan(\"\".join(i), direction=\"S\", x=None, y=None, dictionary=biggusdictus):\n",
    "        print(wrd)\n",
    "        found.append(wrd)"
   ]
  },
  {
   "cell_type": "code",
   "execution_count": 496,
   "metadata": {},
   "outputs": [],
   "source": [
    "#found"
   ]
  },
  {
   "cell_type": "code",
   "execution_count": 497,
   "metadata": {},
   "outputs": [
    {
     "name": "stdout",
     "output_type": "stream",
     "text": [
      "j: 8\n",
      "GURU,SE,None,8,4\n",
      "j: 4\n",
      "SIP,SE,None,4,3\n",
      "j: 2\n",
      "WAD,SE,None,2,3\n",
      "j: 9\n",
      "EEL,SE,None,9,3\n",
      "j: 2\n",
      "TUX,SE,None,2,3\n",
      "j: 13\n",
      "GAP,SE,None,13,3\n",
      "j: 3\n",
      "BATS,SE,None,3,4\n"
     ]
    }
   ],
   "source": [
    "#SE\n",
    "for i in diag_top_left_to_bottom_right:\n",
    "    for wrd in scan(\"\".join(i), direction=\"SE\", x=None, y=None, dictionary=biggusdictus):\n",
    "        print(wrd)\n",
    "        found.append(wrd)"
   ]
  },
  {
   "cell_type": "code",
   "execution_count": 498,
   "metadata": {},
   "outputs": [
    {
     "name": "stdout",
     "output_type": "stream",
     "text": [
      "j: 10\n",
      "IVY,NE,None,10,3\n",
      "j: 12\n",
      "WAD,NE,None,12,3\n",
      "j: 6\n",
      "DRY,NE,None,6,3\n",
      "j: 15\n",
      "ION,NE,None,15,3\n"
     ]
    }
   ],
   "source": [
    "#NE\n",
    "for i in diag_bottom_left_to_upper_right:\n",
    "        for wrd in scan(\"\".join(i), direction=\"NE\", x=None, y=None, dictionary=biggusdictus):\n",
    "            print(wrd)\n",
    "            found.append(wrd)"
   ]
  },
  {
   "cell_type": "code",
   "execution_count": 499,
   "metadata": {},
   "outputs": [
    {
     "data": {
      "text/plain": [
       "[YIN,E,5,12,3,\n",
       " GEM,E,5,18,3,\n",
       " AIM,E,7,9,3,\n",
       " WOW,E,10,10,3,\n",
       " ION,E,12,10,3,\n",
       " GEM,E,15,24,3,\n",
       " CONFIDENT,E,19,30,9,\n",
       " STRATEGY,S,None,21,8,\n",
       " GAG,S,None,5,3,\n",
       " ELM,S,None,15,3,\n",
       " GONG,S,None,10,4,\n",
       " VALUE,S,None,19,5,\n",
       " GURU,SE,None,8,4,\n",
       " SIP,SE,None,4,3,\n",
       " WAD,SE,None,2,3,\n",
       " EEL,SE,None,9,3,\n",
       " TUX,SE,None,2,3,\n",
       " GAP,SE,None,13,3,\n",
       " BATS,SE,None,3,4,\n",
       " IVY,NE,None,10,3,\n",
       " WAD,NE,None,12,3,\n",
       " DRY,NE,None,6,3,\n",
       " ION,NE,None,15,3]"
      ]
     },
     "execution_count": 499,
     "metadata": {},
     "output_type": "execute_result"
    }
   ],
   "source": [
    "found"
   ]
  },
  {
   "cell_type": "code",
   "execution_count": null,
   "metadata": {},
   "outputs": [],
   "source": []
  },
  {
   "cell_type": "code",
   "execution_count": null,
   "metadata": {},
   "outputs": [],
   "source": []
  },
  {
   "cell_type": "code",
   "execution_count": null,
   "metadata": {},
   "outputs": [],
   "source": []
  }
 ],
 "metadata": {
  "kernelspec": {
   "display_name": "Python 3",
   "language": "python",
   "name": "python3"
  },
  "language_info": {
   "codemirror_mode": {
    "name": "ipython",
    "version": 3
   },
   "file_extension": ".py",
   "mimetype": "text/x-python",
   "name": "python",
   "nbconvert_exporter": "python",
   "pygments_lexer": "ipython3",
   "version": "3.5.2"
  }
 },
 "nbformat": 4,
 "nbformat_minor": 1
}
