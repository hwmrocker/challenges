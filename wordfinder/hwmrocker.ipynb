{
 "cells": [
  {
   "cell_type": "code",
   "execution_count": null,
   "metadata": {},
   "outputs": [],
   "source": [
    "class CharTree:\n",
    "    end = False\n",
    "\n",
    "\n",
    "    def __init__(self, char=\"\", parent=None):\n",
    "        self.is_terminator = False\n",
    "        self.children = {}\n",
    "        self.parent = parent\n",
    "        self.char = char\n",
    "    \n",
    "    def get_child(self, char: str) -> \"CharTree\":\n",
    "        return self.children.get(char)\n",
    "\n",
    "    def set_child(self, char: str):\n",
    "        if char not in self.children:\n",
    "            self.children[char] = CharTree(char=char, parent=self)\n",
    "        return self.children[char]\n",
    "    \n",
    "    def get_word(self):\n",
    "        foo = [self.char]\n",
    "        nextone = self.parent\n",
    "        while nextone:\n",
    "#             print(foo)\n",
    "            foo.append(nextone.char)\n",
    "            nextone = nextone.parent\n",
    "        return \"\".join(foo[::-1])\n",
    "        \n",
    "    def _repr_children(self):\n",
    "        return \"[\\n\" + \\\n",
    "        \"\\n\".join(f\"{key} : {value}\" for key, value in self.children.items()) + \\\n",
    "        \"]\"\n",
    "    \n",
    "    def __repr__(self):\n",
    "        return f\"{self.__class__.__name__}(is_terminator {self.is_terminator}\\n{self._repr_children()})\"\n",
    "\n",
    "word_lookup = CharTree()"
   ]
  },
  {
   "cell_type": "code",
   "execution_count": null,
   "metadata": {},
   "outputs": [],
   "source": [
    "def add_word(word: str) -> None:\n",
    "    next_bucket = word_lookup\n",
    "    for c in word:\n",
    "        next_bucket = next_bucket.set_child(c)\n",
    "    else:\n",
    "        next_bucket.is_terminator = True\n"
   ]
  },
  {
   "cell_type": "code",
   "execution_count": null,
   "metadata": {},
   "outputs": [],
   "source": [
    "add_word(\"hans\")\n",
    "word_lookup.get_child(\"h\").get_child(\"a\").get_child(\"n\").get_child(\"s\").get_word()\n"
   ]
  },
  {
   "cell_type": "code",
   "execution_count": null,
   "metadata": {},
   "outputs": [],
   "source": [
    "# for line in open(\"eff_large.wordlist\"):\n",
    "for line in open(\"zingarelli2005.txt\"):\n",
    "    new_word = line.strip().lower()\n",
    "    if len(new_word) < 3:\n",
    "        continue\n",
    "#     print(new_word)\n",
    "    add_word(new_word)"
   ]
  },
  {
   "cell_type": "code",
   "execution_count": null,
   "metadata": {},
   "outputs": [],
   "source": [
    "len(word_lookup.children)\n",
    "word_lookup.children[\"a\"].is_terminator"
   ]
  },
  {
   "cell_type": "code",
   "execution_count": null,
   "metadata": {},
   "outputs": [],
   "source": [
    "class CharMap:\n",
    "    \n",
    "    directions = {\n",
    "        \"n\" : (-1, 0),\n",
    "        \"ne\": (-1, 1),\n",
    "        \"e\": (0, 1),\n",
    "        \"se\": (1, 1),\n",
    "        \"s\": (1, 0),\n",
    "        \"sw\": (1, -1),\n",
    "        \"w\": (0, -1),\n",
    "        \"nw\": (-1, -1),\n",
    "    }\n",
    "    \n",
    "    def __init__(self, textfile):\n",
    "        chars = open(textfile).readlines()\n",
    "        self.cmap = [l.strip().lower() for l in chars]\n",
    "        self.num_lines = len(chars)\n",
    "        self.num_cols = len(chars[0].strip())\n",
    "    \n",
    "    def get_char(self, line, col):\n",
    "        if 0 <= line < self.num_lines and 0 <= col < self.num_cols:\n",
    "            return self.cmap[line][col]\n",
    "        return \".\"\n",
    "    \n",
    "    def generate_line(self, line, col, direction):\n",
    "        assert direction in self.directions\n",
    "        d_line, d_col = self.directions[direction]\n",
    "        next_char = self.get_char(line, col)\n",
    "        while next_char != \".\":\n",
    "            yield next_char\n",
    "            line += d_line\n",
    "            col += d_col\n",
    "            next_char = self.get_char(line, col)\n",
    "            \n",
    "        \n",
    "cmap = CharMap(\"chargrid.txt\")       "
   ]
  },
  {
   "cell_type": "code",
   "execution_count": null,
   "metadata": {},
   "outputs": [],
   "source": [
    "cmap.cmap"
   ]
  },
  {
   "cell_type": "code",
   "execution_count": null,
   "metadata": {},
   "outputs": [],
   "source": [
    "\"\".join(cmap.generate_line(17,13,\"nw\"))"
   ]
  },
  {
   "cell_type": "code",
   "execution_count": null,
   "metadata": {},
   "outputs": [],
   "source": [
    "for li in range(cmap.num_lines):\n",
    "    for ci in range(cmap.num_cols):\n",
    "        for direction in [\"ne\", \"se\", \"e\", \"s\", ]:\n",
    "            word = cmap.generate_line(li, ci, direction)\n",
    "            next_lookup = word_lookup\n",
    "            for wordlen, c in enumerate(word, start=1):\n",
    "                next_lookup = next_lookup.get_child(c)\n",
    "                if not next_lookup:\n",
    "                    break\n",
    "                if next_lookup.is_terminator:\n",
    "                    print(f\"found word {next_lookup.get_word()} starting {li}/{ci} {direction}, {wordlen}\")"
   ]
  },
  {
   "cell_type": "code",
   "execution_count": null,
   "metadata": {},
   "outputs": [],
   "source": []
  }
 ],
 "metadata": {
  "kernelspec": {
   "display_name": "Python 3",
   "language": "python",
   "name": "python3"
  },
  "language_info": {
   "codemirror_mode": {
    "name": "ipython",
    "version": 3
   },
   "file_extension": ".py",
   "mimetype": "text/x-python",
   "name": "python",
   "nbconvert_exporter": "python",
   "pygments_lexer": "ipython3",
   "version": "3.7.0"
  }
 },
 "nbformat": 4,
 "nbformat_minor": 2
}
